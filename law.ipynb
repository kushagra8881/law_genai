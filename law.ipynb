{
 "cells": [
  {
   "cell_type": "code",
   "execution_count": 9,
   "metadata": {},
   "outputs": [
    {
     "data": {
      "text/html": [
       "<div>\n",
       "<style scoped>\n",
       "    .dataframe tbody tr th:only-of-type {\n",
       "        vertical-align: middle;\n",
       "    }\n",
       "\n",
       "    .dataframe tbody tr th {\n",
       "        vertical-align: top;\n",
       "    }\n",
       "\n",
       "    .dataframe thead th {\n",
       "        text-align: right;\n",
       "    }\n",
       "</style>\n",
       "<table border=\"1\" class=\"dataframe\">\n",
       "  <thead>\n",
       "    <tr style=\"text-align: right;\">\n",
       "      <th></th>\n",
       "      <th>Instruction</th>\n",
       "      <th>Response</th>\n",
       "    </tr>\n",
       "  </thead>\n",
       "  <tbody>\n",
       "    <tr>\n",
       "      <th>0</th>\n",
       "      <td>What is the difference between a petition and ...</td>\n",
       "      <td>A petition is a formal request submitted to a ...</td>\n",
       "    </tr>\n",
       "    <tr>\n",
       "      <th>1</th>\n",
       "      <td>When should a writ petition be filed in India?</td>\n",
       "      <td>A writ petition in India should be filed when ...</td>\n",
       "    </tr>\n",
       "    <tr>\n",
       "      <th>2</th>\n",
       "      <td>What is the procedure for filing a plaint in a...</td>\n",
       "      <td>To file a plaint in a civil case in Indiayou m...</td>\n",
       "    </tr>\n",
       "    <tr>\n",
       "      <th>3</th>\n",
       "      <td>What are the common reliefs sought through a p...</td>\n",
       "      <td>Public interest litigation (PIL) petitions in ...</td>\n",
       "    </tr>\n",
       "    <tr>\n",
       "      <th>4</th>\n",
       "      <td>Can a plaint be amended after it has been file...</td>\n",
       "      <td>Yesa plaint can be amended in a civil case in ...</td>\n",
       "    </tr>\n",
       "  </tbody>\n",
       "</table>\n",
       "</div>"
      ],
      "text/plain": [
       "                                         Instruction  \\\n",
       "0  What is the difference between a petition and ...   \n",
       "1     When should a writ petition be filed in India?   \n",
       "2  What is the procedure for filing a plaint in a...   \n",
       "3  What are the common reliefs sought through a p...   \n",
       "4  Can a plaint be amended after it has been file...   \n",
       "\n",
       "                                            Response  \n",
       "0  A petition is a formal request submitted to a ...  \n",
       "1  A writ petition in India should be filed when ...  \n",
       "2  To file a plaint in a civil case in Indiayou m...  \n",
       "3  Public interest litigation (PIL) petitions in ...  \n",
       "4  Yesa plaint can be amended in a civil case in ...  "
      ]
     },
     "execution_count": 9,
     "metadata": {},
     "output_type": "execute_result"
    }
   ],
   "source": [
    "import pandas as pd\n",
    "import numpy as np\n",
    "\n",
    "df=pd.read_csv(\"Indian-Law.csv\")\n",
    "df.head(5)"
   ]
  },
  {
   "cell_type": "code",
   "execution_count": 8,
   "metadata": {},
   "outputs": [],
   "source": [
    "import openai\n",
    "import chromadb"
   ]
  },
  {
   "cell_type": "code",
   "execution_count": 21,
   "metadata": {},
   "outputs": [],
   "source": [
    "# !pip install chroma-migrate"
   ]
  },
  {
   "cell_type": "code",
   "execution_count": 22,
   "metadata": {},
   "outputs": [],
   "source": [
    "# !pip install --upgrade pip setuptools wheel\n"
   ]
  },
  {
   "cell_type": "code",
   "execution_count": 23,
   "metadata": {},
   "outputs": [],
   "source": [
    "# from sentence_transformers import SentenceTransformer\n",
    "\n",
    "\n",
    "# model = SentenceTransformer('all-MiniLM-L6-v2')\n",
    "\n",
    "\n",
    "# def get_embedding(text):\n",
    "#     return model.encode(str(text)).tolist()\n",
    "\n",
    "\n",
    "# df['embedding'] = df['Instruction'].apply(get_embedding)\n",
    "\n",
    "# df.head(5)\n",
    "\n",
    "# df.to_csv('Indian-Law_embeddings.csv', index=False)\n"
   ]
  },
  {
   "cell_type": "code",
   "execution_count": 4,
   "metadata": {},
   "outputs": [
    {
     "data": {
      "text/html": [
       "<div>\n",
       "<style scoped>\n",
       "    .dataframe tbody tr th:only-of-type {\n",
       "        vertical-align: middle;\n",
       "    }\n",
       "\n",
       "    .dataframe tbody tr th {\n",
       "        vertical-align: top;\n",
       "    }\n",
       "\n",
       "    .dataframe thead th {\n",
       "        text-align: right;\n",
       "    }\n",
       "</style>\n",
       "<table border=\"1\" class=\"dataframe\">\n",
       "  <thead>\n",
       "    <tr style=\"text-align: right;\">\n",
       "      <th></th>\n",
       "      <th>Instruction</th>\n",
       "      <th>Response</th>\n",
       "      <th>embedding</th>\n",
       "    </tr>\n",
       "  </thead>\n",
       "  <tbody>\n",
       "    <tr>\n",
       "      <th>0</th>\n",
       "      <td>What is the difference between a petition and ...</td>\n",
       "      <td>A petition is a formal request submitted to a ...</td>\n",
       "      <td>[-0.028258008882403374, 0.07087016850709915, -...</td>\n",
       "    </tr>\n",
       "    <tr>\n",
       "      <th>1</th>\n",
       "      <td>When should a writ petition be filed in India?</td>\n",
       "      <td>A writ petition in India should be filed when ...</td>\n",
       "      <td>[0.014730489812791348, -0.010633070021867752, ...</td>\n",
       "    </tr>\n",
       "    <tr>\n",
       "      <th>2</th>\n",
       "      <td>What is the procedure for filing a plaint in a...</td>\n",
       "      <td>To file a plaint in a civil case in Indiayou m...</td>\n",
       "      <td>[-0.04823501408100128, 0.11056535691022873, -0...</td>\n",
       "    </tr>\n",
       "    <tr>\n",
       "      <th>3</th>\n",
       "      <td>What are the common reliefs sought through a p...</td>\n",
       "      <td>Public interest litigation (PIL) petitions in ...</td>\n",
       "      <td>[-0.02925526164472103, 0.0396060012280941, -0....</td>\n",
       "    </tr>\n",
       "    <tr>\n",
       "      <th>4</th>\n",
       "      <td>Can a plaint be amended after it has been file...</td>\n",
       "      <td>Yesa plaint can be amended in a civil case in ...</td>\n",
       "      <td>[-0.07011803984642029, 0.11076454818248749, 0....</td>\n",
       "    </tr>\n",
       "  </tbody>\n",
       "</table>\n",
       "</div>"
      ],
      "text/plain": [
       "                                         Instruction  \\\n",
       "0  What is the difference between a petition and ...   \n",
       "1     When should a writ petition be filed in India?   \n",
       "2  What is the procedure for filing a plaint in a...   \n",
       "3  What are the common reliefs sought through a p...   \n",
       "4  Can a plaint be amended after it has been file...   \n",
       "\n",
       "                                            Response  \\\n",
       "0  A petition is a formal request submitted to a ...   \n",
       "1  A writ petition in India should be filed when ...   \n",
       "2  To file a plaint in a civil case in Indiayou m...   \n",
       "3  Public interest litigation (PIL) petitions in ...   \n",
       "4  Yesa plaint can be amended in a civil case in ...   \n",
       "\n",
       "                                           embedding  \n",
       "0  [-0.028258008882403374, 0.07087016850709915, -...  \n",
       "1  [0.014730489812791348, -0.010633070021867752, ...  \n",
       "2  [-0.04823501408100128, 0.11056535691022873, -0...  \n",
       "3  [-0.02925526164472103, 0.0396060012280941, -0....  \n",
       "4  [-0.07011803984642029, 0.11076454818248749, 0....  "
      ]
     },
     "execution_count": 4,
     "metadata": {},
     "output_type": "execute_result"
    }
   ],
   "source": [
    "# df=pd.read_csv(\"Indian-Law_embedding.csv\")\n",
    "# df.head(5)"
   ]
  },
  {
   "cell_type": "code",
   "execution_count": 25,
   "metadata": {},
   "outputs": [],
   "source": [
    "client = chromadb.PersistentClient(path=\"indian_law_kp_work\")\n",
    "\n",
    "collection = client.create_collection(\"indian_law_kp_work\")\n"
   ]
  },
  {
   "cell_type": "code",
   "execution_count": 26,
   "metadata": {},
   "outputs": [
    {
     "name": "stdout",
     "output_type": "stream",
     "text": [
      "Data stored in ChromaDB successfully.\n"
     ]
    }
   ],
   "source": [
    "\n",
    "for index, row in df.iterrows():\n",
    "   \n",
    "    embedding = eval(row['embedding']) if isinstance(row['embedding'], str) else row['embedding']\n",
    "    \n",
    "    collection.add(\n",
    "        ids=str(index),\n",
    "        embeddings=[embedding],  \n",
    "        documents=[row['Response']],\n",
    "        metadatas={\"instruction\": row['Instruction']}\n",
    "    )\n",
    "\n",
    "print(\"Data stored in ChromaDB successfully.\")\n"
   ]
  },
  {
   "cell_type": "code",
   "execution_count": 25,
   "metadata": {},
   "outputs": [
    {
     "name": "stdout",
     "output_type": "stream",
     "text": [
      "{'ids': [['153']], 'distances': [[4.553018118774732e-13]], 'metadatas': [[{'instruction': 'Article 51 of Indian Constitution'}]], 'embeddings': None, 'documents': [['Promotion of international peace and security The State shall endeavour to\\n(a) promote international peace and security;\\n(b) maintain just and honourable relations between nations;\\n(c) foster respect for international law and treaty obligations in the dealings of organised peoples with one another; and encourage settlement of international disputes by arbitration PART IVA FUNDAMENTAL DUTIES\"\\nArticle 51A of Indian Constitution,\"Fundamental duties It shall be the duty of every citizen of India (a) to abide by the Constitution and respect its ideals and institutions, the national Flag and the National Anthem;\\n(b) to cherish and follow the noble ideals which inspired our national struggle for freedom;\\n(c) to uphold and protect the sovereignty, unity and integrity of India;\\n(d) to defend the country and render national service when called upon to do so;\\n(e) to promote harmony and the spirit of common brotherhood amongst all the people of India transcending religious, linguistic and regional or sectional diversities; to renounce practices derogatory to the dignity of women;\\n(f) to value and preserve the rich heritage of our composite culture;\\n(g) to protect and improve the natural environment including forests, lakes, rivers and wild life, and to have compassion for living creatures;\\n(h) to develop the scientific temper, humanism and the spirit of inquiry and reform;\\n(i) to safeguard public property and to abjure violence;\\n(j) to strive towards excellence in all spheres of individual and collective activity so that the nation constantly rises to higher levels of endeavour and achievement PART V THE UNION CHAPTER I THE EXECUTIVE The President and Vice President\",\"Below is an instruction that describes a task or a question. Write a response that appropriately completes the request.']], 'uris': None, 'data': None, 'included': ['metadatas', 'documents', 'distances']}\n"
     ]
    }
   ],
   "source": [
    "client = chromadb.PersistentClient(path=\"indian_law_kp_work\")\n",
    "collection=client.get_or_create_collection(\"indian_law_kp_work\")\n",
    "\n",
    "query=\" article 51 of indian constitution\"\n",
    "results=collection.query(query_texts=[query],n_results=1)\n",
    "print(results)"
   ]
  },
  {
   "cell_type": "code",
   "execution_count": 10,
   "metadata": {},
   "outputs": [
    {
     "name": "stderr",
     "output_type": "stream",
     "text": [
      "/home/kushagra/Documents/code/AI/.venv/lib/python3.12/site-packages/huggingface_hub/file_download.py:1132: FutureWarning: `resume_download` is deprecated and will be removed in version 1.0.0. Downloads always resume when possible. If you want to force a new download, use `force_download=True`.\n",
      "  warnings.warn(\n"
     ]
    }
   ],
   "source": [
    "from sentence_transformers import SentenceTransformer\n",
    "\n",
    "# Load BGE small model\n",
    "bge_model = SentenceTransformer('BAAI/bge-small-en-v1.5')\n",
    "\n",
    "def get_bge_embedding(text):\n",
    "    return bge_model.encode(str(text)).tolist()\n",
    "\n",
    "# Generate BGE embeddings\n",
    "df['bge_embedding'] = df['Instruction'].apply(get_bge_embedding)"
   ]
  },
  {
   "cell_type": "code",
   "execution_count": 11,
   "metadata": {},
   "outputs": [
    {
     "data": {
      "text/html": [
       "<div>\n",
       "<style scoped>\n",
       "    .dataframe tbody tr th:only-of-type {\n",
       "        vertical-align: middle;\n",
       "    }\n",
       "\n",
       "    .dataframe tbody tr th {\n",
       "        vertical-align: top;\n",
       "    }\n",
       "\n",
       "    .dataframe thead th {\n",
       "        text-align: right;\n",
       "    }\n",
       "</style>\n",
       "<table border=\"1\" class=\"dataframe\">\n",
       "  <thead>\n",
       "    <tr style=\"text-align: right;\">\n",
       "      <th></th>\n",
       "      <th>Instruction</th>\n",
       "      <th>Response</th>\n",
       "      <th>bge_embedding</th>\n",
       "    </tr>\n",
       "  </thead>\n",
       "  <tbody>\n",
       "    <tr>\n",
       "      <th>0</th>\n",
       "      <td>What is the difference between a petition and ...</td>\n",
       "      <td>A petition is a formal request submitted to a ...</td>\n",
       "      <td>[-0.05384553596377373, 0.02437661774456501, -0...</td>\n",
       "    </tr>\n",
       "    <tr>\n",
       "      <th>1</th>\n",
       "      <td>When should a writ petition be filed in India?</td>\n",
       "      <td>A writ petition in India should be filed when ...</td>\n",
       "      <td>[-0.09163694828748703, -0.04776277020573616, 0...</td>\n",
       "    </tr>\n",
       "    <tr>\n",
       "      <th>2</th>\n",
       "      <td>What is the procedure for filing a plaint in a...</td>\n",
       "      <td>To file a plaint in a civil case in Indiayou m...</td>\n",
       "      <td>[-0.03673609718680382, 0.017968948930501938, -...</td>\n",
       "    </tr>\n",
       "    <tr>\n",
       "      <th>3</th>\n",
       "      <td>What are the common reliefs sought through a p...</td>\n",
       "      <td>Public interest litigation (PIL) petitions in ...</td>\n",
       "      <td>[-0.07224810123443604, -0.0032734533306211233,...</td>\n",
       "    </tr>\n",
       "    <tr>\n",
       "      <th>4</th>\n",
       "      <td>Can a plaint be amended after it has been file...</td>\n",
       "      <td>Yesa plaint can be amended in a civil case in ...</td>\n",
       "      <td>[-0.06682822853326797, -0.02113156206905842, 0...</td>\n",
       "    </tr>\n",
       "  </tbody>\n",
       "</table>\n",
       "</div>"
      ],
      "text/plain": [
       "                                         Instruction  \\\n",
       "0  What is the difference between a petition and ...   \n",
       "1     When should a writ petition be filed in India?   \n",
       "2  What is the procedure for filing a plaint in a...   \n",
       "3  What are the common reliefs sought through a p...   \n",
       "4  Can a plaint be amended after it has been file...   \n",
       "\n",
       "                                            Response  \\\n",
       "0  A petition is a formal request submitted to a ...   \n",
       "1  A writ petition in India should be filed when ...   \n",
       "2  To file a plaint in a civil case in Indiayou m...   \n",
       "3  Public interest litigation (PIL) petitions in ...   \n",
       "4  Yesa plaint can be amended in a civil case in ...   \n",
       "\n",
       "                                       bge_embedding  \n",
       "0  [-0.05384553596377373, 0.02437661774456501, -0...  \n",
       "1  [-0.09163694828748703, -0.04776277020573616, 0...  \n",
       "2  [-0.03673609718680382, 0.017968948930501938, -...  \n",
       "3  [-0.07224810123443604, -0.0032734533306211233,...  \n",
       "4  [-0.06682822853326797, -0.02113156206905842, 0...  "
      ]
     },
     "execution_count": 11,
     "metadata": {},
     "output_type": "execute_result"
    }
   ],
   "source": [
    "df.head()"
   ]
  },
  {
   "cell_type": "code",
   "execution_count": 13,
   "metadata": {},
   "outputs": [],
   "source": [
    "bge_client = chromadb.PersistentClient(path=\"indian_law_bge_work_1\")\n",
    "\n",
    "bge_collection = bge_client.create_collection(\"indian_law_bge_work_1\")\n",
    "\n",
    "# Store BGE embeddings in the new collection\n"
   ]
  },
  {
   "cell_type": "code",
   "execution_count": 14,
   "metadata": {},
   "outputs": [
    {
     "name": "stdout",
     "output_type": "stream",
     "text": [
      "BGE Data stored in ChromaDB successfully.\n"
     ]
    }
   ],
   "source": [
    "for index, row in df.iterrows():\n",
    "\n",
    "    bge_embedding = eval(row['bge_embedding']) if isinstance(row['bge_embedding'], str) else row['bge_embedding']\n",
    "\n",
    "\n",
    "    instruction_str = str(row['Instruction'])\n",
    "    response_str = str(row['Response'])\n",
    "\n",
    "    bge_collection.add(\n",
    "        ids=str(index),\n",
    "        embeddings=[bge_embedding],  \n",
    "        documents=[\"question:\" + instruction_str + \"\\n\" + \"answer:\" + response_str],\n",
    "        metadatas={\"instruction\": instruction_str}\n",
    "    )\n",
    "\n",
    "print(\"BGE Data stored in ChromaDB successfully.\")\n"
   ]
  },
  {
   "cell_type": "code",
   "execution_count": 23,
   "metadata": {},
   "outputs": [
    {
     "name": "stdout",
     "output_type": "stream",
     "text": [
      "[[{'instruction': 'Article 211 of Indian Constitution'}, {'instruction': 'Article 51 of Indian Constitution'}, {'instruction': 'What are the objectives of Article 51 of the Indian Constitution?'}, {'instruction': 'What are the objectives of Article 51 of the Indian Constitution?'}]]\n"
     ]
    }
   ],
   "source": [
    "client = chromadb.PersistentClient(path=\"indian_law_bge_work_1\")\n",
    "collection=client.get_or_create_collection(\"indian_law_bge_work_1\")\n",
    "\n",
    "query=\" article 51 \"\n",
    "results=collection.query(query_texts=[query],n_results=4)\n",
    "print(results['metadatas'])"
   ]
  },
  {
   "cell_type": "code",
   "execution_count": 2,
   "metadata": {},
   "outputs": [
    {
     "name": "stdout",
     "output_type": "stream",
     "text": [
      "Collecting gdown\n",
      "  Downloading gdown-5.2.0-py3-none-any.whl.metadata (5.8 kB)\n",
      "Requirement already satisfied: beautifulsoup4 in /home/kushagra/Documents/code/AI/.venv/lib/python3.12/site-packages (from gdown) (4.12.3)\n",
      "Requirement already satisfied: filelock in /home/kushagra/Documents/code/AI/.venv/lib/python3.12/site-packages (from gdown) (3.14.0)\n",
      "Requirement already satisfied: requests[socks] in /home/kushagra/Documents/code/AI/.venv/lib/python3.12/site-packages (from gdown) (2.32.2)\n",
      "Requirement already satisfied: tqdm in /home/kushagra/Documents/code/AI/.venv/lib/python3.12/site-packages (from gdown) (4.66.4)\n",
      "Requirement already satisfied: soupsieve>1.2 in /home/kushagra/Documents/code/AI/.venv/lib/python3.12/site-packages (from beautifulsoup4->gdown) (2.5)\n",
      "Requirement already satisfied: charset-normalizer<4,>=2 in /home/kushagra/Documents/code/AI/.venv/lib/python3.12/site-packages (from requests[socks]->gdown) (3.3.2)\n",
      "Requirement already satisfied: idna<4,>=2.5 in /home/kushagra/Documents/code/AI/.venv/lib/python3.12/site-packages (from requests[socks]->gdown) (3.7)\n",
      "Requirement already satisfied: urllib3<3,>=1.21.1 in /home/kushagra/Documents/code/AI/.venv/lib/python3.12/site-packages (from requests[socks]->gdown) (2.2.1)\n",
      "Requirement already satisfied: certifi>=2017.4.17 in /home/kushagra/Documents/code/AI/.venv/lib/python3.12/site-packages (from requests[socks]->gdown) (2024.2.2)\n",
      "Collecting PySocks!=1.5.7,>=1.5.6 (from requests[socks]->gdown)\n",
      "  Downloading PySocks-1.7.1-py3-none-any.whl.metadata (13 kB)\n",
      "Downloading gdown-5.2.0-py3-none-any.whl (18 kB)\n",
      "Downloading PySocks-1.7.1-py3-none-any.whl (16 kB)\n",
      "Installing collected packages: PySocks, gdown\n",
      "Successfully installed PySocks-1.7.1 gdown-5.2.0\n"
     ]
    }
   ],
   "source": [
    "!pip install gdown"
   ]
  }
 ],
 "metadata": {
  "kernelspec": {
   "display_name": ".venv",
   "language": "python",
   "name": "python3"
  },
  "language_info": {
   "codemirror_mode": {
    "name": "ipython",
    "version": 3
   },
   "file_extension": ".py",
   "mimetype": "text/x-python",
   "name": "python",
   "nbconvert_exporter": "python",
   "pygments_lexer": "ipython3",
   "version": "3.12.3"
  }
 },
 "nbformat": 4,
 "nbformat_minor": 2
}
